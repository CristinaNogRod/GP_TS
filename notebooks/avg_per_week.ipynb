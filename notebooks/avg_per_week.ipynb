{
 "cells": [
  {
   "cell_type": "code",
   "execution_count": null,
   "metadata": {},
   "outputs": [],
   "source": [
    "########################################################### IMPORTS\n",
    "import pandas as pd\n",
    "import numpy as np\n",
    "import seaborn as sns\n",
    "import matplotlib.pyplot as plt\n",
    "from gpflow.utilities import print_summary, set_trainable\n",
    "import gpflux\n",
    "import gpflow\n",
    "import tensorflow as tf\n",
    "\n",
    "import os\n",
    "os.environ[\"CUDA_VISIBLE_DEVICES\"] = '1'\n",
    "\n",
    "from sklearn.model_selection import train_test_split\n",
    "from sklearn.preprocessing import StandardScaler\n",
    "from sklearn.metrics import mean_squared_error\n",
    "\n",
    "import sys\n",
    "sys.path.append('../src')\n",
    "from data_preparation import get_birth_data, plot_data, separate_data\n",
    "\n",
    "########################################################### DATA\n",
    "data = get_birth_data()\n",
    "un_x, un_y = separate_data(data)\n",
    "un_x_w, un_y_w = separate_data(data, weekdays=True)\n",
    "x, y = separate_data(data, normalised=True)\n",
    "x_w, y_w = separate_data(data, normalised=True, weekdays=True)\n",
    "\n",
    "x = x.numpy().reshape(-1,1)\n",
    "y = y.numpy().reshape(-1,1)\n",
    "\n",
    "\n",
    "def get_xticks(data):\n",
    "    idss = []; yrs = []\n",
    "    yr = 1969\n",
    "    for i in range(20):\n",
    "        df = data.loc[data.year == yr+i]\n",
    "        yrs.append(yr+i)\n",
    "        idss.append(df.index[0])\n",
    "    return idss, yrs\n",
    "pos, labels = get_xticks(data)"
   ]
  }
 ],
 "metadata": {
  "kernelspec": {
   "display_name": "Python 3.8.10 64-bit",
   "language": "python",
   "name": "python3"
  },
  "language_info": {
   "name": "python",
   "version": "3.8.10"
  },
  "orig_nbformat": 4,
  "vscode": {
   "interpreter": {
    "hash": "31f2aee4e71d21fbe5cf8b01ff0e069b9275f58929596ceb00d14d90e3e16cd6"
   }
  }
 },
 "nbformat": 4,
 "nbformat_minor": 2
}
